{
 "cells": [
  {
   "cell_type": "code",
   "execution_count": 1,
   "metadata": {},
   "outputs": [],
   "source": [
    "import numpy as np\n",
    "import ipyvolume as ipv\n",
    "import h5py\n",
    "import os\n",
    "\n",
    "import torch \n",
    "import torch.nn as nn\n",
    "\n",
    "from model import *\n",
    "from rotation import rot6d_to_rotmat, rot6d_to_rotmat, batch_rigid_transform\n",
    "from torch.autograd import Variable\n",
    "import time"
   ]
  },
  {
   "cell_type": "code",
   "execution_count": 2,
   "metadata": {},
   "outputs": [
    {
     "name": "stdout",
     "output_type": "stream",
     "text": [
      "52\n"
     ]
    }
   ],
   "source": [
    "parent_array = np.array([-1, 0, 0, 0, 1, 2, 3, 4, 5, 6, 7, 8, 9, 9, 9, 12, 13, 14, 16, 17, 18, 19, 20, 20, 23, 20,\n",
    "                   25, 26, 20, 28, 29, 20, 31, 32, 20, 34, 35, 21, 21, 38, 21, 40, 41, 21, 43, 44, 21, 46, \n",
    "                   47, 21, 49, 50])\n",
    "print(len(parent_array))\n",
    "skeleton = np.load('./files/skeleton.npy')\n",
    "\n",
    "latent_dim = 768\n",
    "device = torch.device('cuda:0')\n",
    "num_class = 120\n",
    "main_path = \"/ssd_scratch/cvit/debtanu.gupta/\""
   ]
  },
  {
   "cell_type": "code",
   "execution_count": 3,
   "metadata": {},
   "outputs": [],
   "source": [
    "def plot(skeleton_motion1, skeleton_motion2, single=False, save_gif=False, save_name = \"example\"):\n",
    "    fig = ipv.figure(width=600,height=600)\n",
    "#     skeleton_motion1[:,:,1] *= -1\n",
    "#     skeleton_motion1[:,:,2] *= -1\n",
    "    \n",
    "#     skeleton_motion2[:,:,1] *= -1\n",
    "#     skeleton_motion2[:,:,2] *= -1\n",
    "    \n",
    "    anim_list = []\n",
    "    for i,p in enumerate(parent_array): # Run loop for each bone\n",
    "        if p == -1:\n",
    "            continue\n",
    "        b = ipv.plot(np.array([skeleton_motion1[:,i,0],skeleton_motion1[:,p,0]]).T,np.array([skeleton_motion1[:,i,1],skeleton_motion1[:,p,1]]).T,np.array([skeleton_motion1[:,i,2],skeleton_motion1[:,p,2]]).T ,size=10, color='darkviolet')\n",
    "        anim_list.append(b)\n",
    "        if not single:\n",
    "            b1 = ipv.plot(np.array([skeleton_motion2[:,i,0],skeleton_motion2[:,p,0]]).T,np.array([skeleton_motion2[:,i,1],skeleton_motion2[:,p,1]]).T,np.array([skeleton_motion2[:,i,2],skeleton_motion2[:,p,2]]).T ,size=10, color='orange')\n",
    "            anim_list.append(b1)\n",
    "    \n",
    "    \n",
    "#     ipv.plot_surface(x,y,z, color='red')\n",
    "#     ipv.plot_wireframe(x,y,z,color='tan')\n",
    "    ipv.animation_control(anim_list, interval=0.01)\n",
    "    ipv.style.background_color('white')\n",
    "    ipv.style.box_off()\n",
    "    ipv.style.axes_off()\n",
    "    ipv.show()\n",
    "    \n",
    "    if save_gif:\n",
    "        def slide(figure, framenr, fraction):\n",
    "            for a in anim_list:\n",
    "                if a.sequence_index == skeleton_motion1.shape[0]:\n",
    "                    a.sequence_index = 0\n",
    "                a.sequence_index += 1        \n",
    "        ipv.movie(save_name + '.gif', slide, fps=5, frames=skeleton_motion1.shape[0])"
   ]
  },
  {
   "cell_type": "code",
   "execution_count": 4,
   "metadata": {},
   "outputs": [],
   "source": [
    "def fkt(x, mean_pose):\n",
    "    # forward kinematics\n",
    "    rotmat = rot6d_to_rotmat(x)\n",
    "    # same mean pose across timesteps\n",
    "    mean_pose = torch.tensor(mean_pose.reshape((1, -1)))\n",
    "    mean_pose = mean_pose.expand((x.shape[0], x.shape[1], 156))\n",
    "    mean_pose = mean_pose[:,:,:].reshape((x.shape[0]*x.shape[1],-1,3))\n",
    "    rotmat = rotmat.reshape((x.shape[0]*x.shape[1],-1, 3, 3))\n",
    "    pred = batch_rigid_transform(rotmat.float(),mean_pose.to(device).float(),parent_array)\n",
    "    x = pred.reshape((x.shape[0], x.shape[1], -1))\n",
    "    return x"
   ]
  },
  {
   "cell_type": "code",
   "execution_count": 5,
   "metadata": {},
   "outputs": [],
   "source": [
    "def infer(model, epoch, components=0, num_samples=10):\n",
    "    model.eval()\n",
    "    rot = np.load('./files/camera.npy')\n",
    "    y = np.repeat(epoch,num_samples)\n",
    "    rot = np.repeat(rot[0:1], num_samples, axis=0)\n",
    "    rot = torch.tensor(rot).to(device).float()\n",
    "\n",
    "    label = np.zeros((y.shape[0], num_class))\n",
    "    label[np.arange(y.shape[0]), y] = 1\n",
    "    label = torch.tensor(label).to(device).float()\n",
    "#     print(rot.shape, label.shape)\n",
    "    with torch.no_grad():\n",
    "        m, v = model.gaussian_parameters(model.z_pre.squeeze(0), dim=0)\n",
    "        idx = torch.distributions.categorical.Categorical(model.pi).sample((label.shape[0],))\n",
    "        m, v = m[idx], v[idx]\n",
    "        z = model.sample_gaussian(m, v)\n",
    "        N = z.shape[0]\n",
    "        z = torch.cat((z, rot,label), dim=1)\n",
    "        z = model.latent2hidden(z)\n",
    "        seq_pred = model.seq_decoder(z).cpu().data.numpy()\n",
    "        z_body = z[:,:320] # for decoding body joints\n",
    "        z_hand = z[:,320:] # for decoding hand joints\n",
    "        root_pred = model.root_traj(z_body).unsqueeze(2).cpu().data.numpy()\n",
    "        z_body = z_body.reshape((N,4,-1))\n",
    "        z_hand = z_hand.reshape((N,4,-1))\n",
    "        \n",
    "        x = model.decoder_net(z_body)\n",
    "        hand_x = model.decoder_net_hand(z_hand)\n",
    "        \n",
    "        print(root_pred.shape)\n",
    "        x = x.reshape(N, 64, 2, 22, -1)\n",
    "        hand_x = hand_x.reshape((N, 64, 2, 30, -1))\n",
    "        \n",
    "        pred = torch.cat((x, hand_x), dim=3)\n",
    "        pred_3d1 = fkt(pred[:,:,0,:,:].contiguous(), skeleton)\n",
    "        pred_3d2 = fkt(pred[:,:,1,:,:].contiguous(), skeleton)\n",
    "        pred_3d1 = pred_3d1.reshape((pred_3d1.shape[0], 64, 52, -1)).cpu().data.numpy()\n",
    "        pred_3d2 = pred_3d2.reshape((pred_3d2.shape[0], 64, 52, -1)).cpu().data.numpy()\n",
    "        pred = rot6d_to_rotmat(pred)\n",
    "        pred = pred.reshape((pred_3d1.shape[0], 64, 2, 52, 3,3)).cpu().data.numpy()\n",
    "        print(root_pred.shape)\n",
    "        pred_3d1 = pred_3d1 + root_pred[:,:,:,:3]\n",
    "        pred_3d2 = pred_3d2 + root_pred[:,:,:,3:]\n",
    "\n",
    "        return pred_3d1, pred_3d2, pred, seq_pred, root_pred"
   ]
  },
  {
   "cell_type": "code",
   "execution_count": 14,
   "metadata": {},
   "outputs": [
    {
     "name": "stdout",
     "output_type": "stream",
     "text": [
      "model loaded..\n"
     ]
    }
   ],
   "source": [
    "model = Model(num_class, latent_dim).to(device)\n",
    "model.load_state_dict(torch.load('./checkpoints/' + 'model_121.pt', map_location=torch.device('cpu')))\n",
    "print('model loaded..')"
   ]
  },
  {
   "cell_type": "code",
   "execution_count": 21,
   "metadata": {
    "scrolled": false
   },
   "outputs": [
    {
     "name": "stdout",
     "output_type": "stream",
     "text": [
      "(50, 64, 1, 6)\n",
      "(50, 64, 1, 6)\n",
      "(50, 64, 52, 3) (50, 64, 52, 3) (50, 64, 2, 52, 3, 3) (50, 64, 1)\n"
     ]
    }
   ],
   "source": [
    "p1, p2, rot6d, seq_pred, root_pred = infer(model,16, components=27, num_samples=50)\n",
    "print(p1.shape, p2.shape, rot6d.shape, seq_pred.shape)"
   ]
  },
  {
   "cell_type": "code",
   "execution_count": 22,
   "metadata": {
    "scrolled": true
   },
   "outputs": [
    {
     "name": "stdout",
     "output_type": "stream",
     "text": [
      "[18 18 18 18 18 18 18 18 18 18 18 18 18 18 18 18 18 18 18 18 18 18 18 17\n",
      " 18 18 18 18 18 18 18 18 18 18 18 18 18 18 18 18 17 18 18 18 18 18 18 18\n",
      " 18 18]\n"
     ]
    }
   ],
   "source": [
    "pred_len = seq_pred[:,:,0]\n",
    "pred_len = pred_len <= 0.975\n",
    "pred_len = np.sum(pred_len, axis=1)\n",
    "print(pred_len)"
   ]
  },
  {
   "cell_type": "code",
   "execution_count": 24,
   "metadata": {
    "scrolled": false
   },
   "outputs": [
    {
     "data": {
      "application/vnd.jupyter.widget-view+json": {
       "model_id": "65a65953526546dfbfe0c2638d3542f1",
       "version_major": 2,
       "version_minor": 0
      },
      "text/plain": [
       "VBox(children=(Figure(animation=0.01, camera=PerspectiveCamera(fov=46.0, position=(0.0, 0.0, 2.0), quaternion=…"
      ]
     },
     "metadata": {},
     "output_type": "display_data"
    }
   ],
   "source": [
    "idx = 10\n",
    "plot(p1[idx,:,:,:], p2[idx,:,:,:], single=False)"
   ]
  },
  {
   "cell_type": "code",
   "execution_count": 27,
   "metadata": {},
   "outputs": [],
   "source": [
    "p = p1[idx]"
   ]
  },
  {
   "cell_type": "code",
   "execution_count": 28,
   "metadata": {},
   "outputs": [
    {
     "name": "stdout",
     "output_type": "stream",
     "text": [
      "(64, 52, 3)\n"
     ]
    }
   ],
   "source": [
    "print(p[:].shape)"
   ]
  },
  {
   "cell_type": "code",
   "execution_count": 30,
   "metadata": {},
   "outputs": [],
   "source": [
    "np.save(\"take_off_a_shoe_without_ST_x.npy\", p)"
   ]
  },
  {
   "cell_type": "code",
   "execution_count": 31,
   "metadata": {},
   "outputs": [
    {
     "data": {
      "text/plain": [
       "(64, 52, 3)"
      ]
     },
     "execution_count": 31,
     "metadata": {},
     "output_type": "execute_result"
    }
   ],
   "source": [
    "np.load(\"take_off_a_shoe_without_ST_x.npy\").shape"
   ]
  },
  {
   "cell_type": "code",
   "execution_count": null,
   "metadata": {},
   "outputs": [],
   "source": []
  },
  {
   "cell_type": "code",
   "execution_count": null,
   "metadata": {},
   "outputs": [],
   "source": []
  },
  {
   "cell_type": "code",
   "execution_count": null,
   "metadata": {},
   "outputs": [],
   "source": []
  },
  {
   "cell_type": "code",
   "execution_count": 15,
   "metadata": {},
   "outputs": [
    {
     "name": "stdout",
     "output_type": "stream",
     "text": [
      "(64, 1, 6) (64, 52, 3, 3)\n"
     ]
    }
   ],
   "source": [
    "print(root_pred[idx].shape, rot6d[idx,:,0].shape)"
   ]
  },
  {
   "cell_type": "code",
   "execution_count": 23,
   "metadata": {},
   "outputs": [],
   "source": [
    "f = h5py.File(\"Pushing.h5\", \"w\")\n",
    "f.create_dataset(\"rotation\", data=rot6d[idx,1:])\n",
    "f.create_dataset(\"root\", data=root_pred[idx,1:])\n",
    "f.close()"
   ]
  },
  {
   "cell_type": "code",
   "execution_count": 16,
   "metadata": {},
   "outputs": [],
   "source": [
    "np.save(\"Monolythic_drink.npy\", rot6d[idx,:,0])"
   ]
  },
  {
   "cell_type": "code",
   "execution_count": null,
   "metadata": {},
   "outputs": [],
   "source": []
  }
 ],
 "metadata": {
  "kernelspec": {
   "display_name": "ENV",
   "language": "python",
   "name": "env"
  },
  "language_info": {
   "codemirror_mode": {
    "name": "ipython",
    "version": 3
   },
   "file_extension": ".py",
   "mimetype": "text/x-python",
   "name": "python",
   "nbconvert_exporter": "python",
   "pygments_lexer": "ipython3",
   "version": "3.7.6"
  }
 },
 "nbformat": 4,
 "nbformat_minor": 4
}
